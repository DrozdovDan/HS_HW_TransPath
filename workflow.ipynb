{
 "cells": [
  {
   "cell_type": "code",
   "execution_count": 22,
   "id": "initial_id",
   "metadata": {},
   "outputs": [],
   "source": [
    "import os \n",
    "os.environ['KMP_DUPLICATE_LIB_OK']='True'\n",
    "\n",
    "import time\n",
    "import torch\n",
    "from torch import nn\n",
    "import torch.nn.functional as F\n",
    "from torch import Tensor\n",
    "from torch.utils.data import Dataset, DataLoader\n",
    "import numpy as np\n",
    "from einops import rearrange\n",
    "import lightning as L\n",
    "from lightning.pytorch.utilities.types import STEP_OUTPUT\n",
    "from pytorch_lightning.loggers import WandbLogger\n",
    "from typing import Any\n",
    "import wandb\n",
    "import multiprocessing"
   ]
  },
  {
   "cell_type": "markdown",
   "id": "ead9c28d-b5c8-4dea-9ced-d16a50230cb2",
   "metadata": {},
   "source": [
    "# TransPath Model architecture"
   ]
  },
  {
   "cell_type": "markdown",
   "id": "3e6739d1-c7b7-4467-8556-24aa36f99c1c",
   "metadata": {},
   "source": [
    "![architecture](./images/architecture.png)"
   ]
  },
  {
   "cell_type": "markdown",
   "id": "2c712b3a-80d3-498c-bb3b-fdd3d4b2ae8e",
   "metadata": {},
   "source": [
    "## ResNet Block"
   ]
  },
  {
   "cell_type": "code",
   "execution_count": 2,
   "id": "08a0646f-2a9e-400c-b43e-5866d5a67144",
   "metadata": {},
   "outputs": [],
   "source": [
    "class ResNetBlock(nn.Module):\n",
    "    def __init__(self, in_channels, out_channels=None, dropout=0.1):\n",
    "        super().__init__()\n",
    "        self.in_channels = in_channels\n",
    "        out_channels = in_channels if out_channels is None else out_channels\n",
    "        self.out_channels = out_channels\n",
    "\n",
    "        self.norm1 = nn.GroupNorm(num_groups=32, num_channels=in_channels, eps=1e-6, affine=True)\n",
    "        self.norm2 = nn.GroupNorm(num_groups=32, num_channels=out_channels, eps=1e-6, affine=True)\n",
    "\n",
    "        self.conv1 = nn.Conv2d(\n",
    "            in_channels,\n",
    "            out_channels,\n",
    "            kernel_size=3,\n",
    "            stride=1,\n",
    "            padding=1\n",
    "        )\n",
    "        self.conv2 = nn.Conv2d(\n",
    "            out_channels,\n",
    "            out_channels,\n",
    "            kernel_size=3,\n",
    "            stride=1,\n",
    "            padding=1\n",
    "        )\n",
    "\n",
    "        self.dropout = nn.Dropout(dropout)\n",
    "        self.silu = nn.SiLU()\n",
    "        self.idConv = nn.Conv2d(\n",
    "            in_channels,\n",
    "            out_channels,\n",
    "            kernel_size=1,\n",
    "            stride=1,\n",
    "        )\n",
    "\n",
    "    def forward(self, x):\n",
    "        h = x\n",
    "\n",
    "        h = self.norm1(h)\n",
    "        h = self.silu(h)\n",
    "        h = self.conv1(h)\n",
    "\n",
    "        h = self.norm2(h)\n",
    "        h = self.silu(h)\n",
    "        h = self.dropout(h)\n",
    "        h = self.conv2(h)\n",
    "\n",
    "        x = self.idConv(x)\n",
    "\n",
    "        return x + h"
   ]
  },
  {
   "cell_type": "markdown",
   "id": "c0724936-e6f8-4546-9ee6-10e160fb86af",
   "metadata": {},
   "source": [
    "## Encoder"
   ]
  },
  {
   "cell_type": "code",
   "execution_count": 3,
   "id": "e050504a-d64d-4aaa-b3da-12ea5f7845e7",
   "metadata": {},
   "outputs": [],
   "source": [
    "class Downsample(nn.Module):\n",
    "    def __init__(self, in_channels):\n",
    "        super().__init__()\n",
    "        self.conv = nn.Conv2d(\n",
    "            in_channels,\n",
    "            in_channels,\n",
    "            kernel_size=3,\n",
    "            stride=1,\n",
    "            padding=1\n",
    "        )\n",
    "\n",
    "    def forward(self, x):\n",
    "        x = F.interpolate(x, scale_factor=0.5, mode=\"nearest\")\n",
    "        x = self.conv(x)\n",
    "        return x"
   ]
  },
  {
   "cell_type": "code",
   "execution_count": 4,
   "id": "51c96a79-69cb-4e8b-a417-cafccede9750",
   "metadata": {},
   "outputs": [],
   "source": [
    "class Encoder(nn.Module):\n",
    "    def __init__(self, in_channels, hidden_channels, downsample_steps, dropout=0.1):\n",
    "        super().__init__()\n",
    "        self.layers = nn.ModuleList([\n",
    "            nn.Conv2d(\n",
    "                in_channels, \n",
    "                hidden_channels, \n",
    "                kernel_size=5, \n",
    "                stride=1, \n",
    "                padding=2\n",
    "            )\n",
    "        ])\n",
    "        for _ in range(downsample_steps):\n",
    "            self.layers.append(\n",
    "                nn.Sequential(\n",
    "                    ResNetBlock(hidden_channels, hidden_channels, dropout),\n",
    "                    Downsample(hidden_channels)\n",
    "                )\n",
    "            )\n",
    "\n",
    "    def forward(self, x):\n",
    "        for layer in self.layers:\n",
    "            x = layer(x)\n",
    "        return x"
   ]
  },
  {
   "cell_type": "markdown",
   "id": "6fc309fb-2b0b-41df-ad7b-8371c6ffb579",
   "metadata": {},
   "source": [
    "## Decoder"
   ]
  },
  {
   "cell_type": "code",
   "execution_count": 5,
   "id": "4d1bd82f-f201-4029-b8b8-9d160545a25e",
   "metadata": {},
   "outputs": [],
   "source": [
    "class Upsample(nn.Module):\n",
    "    def __init__(self, in_channels):\n",
    "        super().__init__()\n",
    "        self.conv = nn.Conv2d(\n",
    "            in_channels,\n",
    "            in_channels,\n",
    "            kernel_size=3,\n",
    "            stride=1,\n",
    "            padding=1\n",
    "        )\n",
    "\n",
    "    def forward(self, x):\n",
    "        x = F.interpolate(x, scale_factor=2.0, mode=\"nearest\")\n",
    "        x = self.conv(x)\n",
    "        return x"
   ]
  },
  {
   "cell_type": "code",
   "execution_count": 6,
   "id": "5f559cd5-b9ef-40a8-af22-89654b103f78",
   "metadata": {},
   "outputs": [],
   "source": [
    "class Decoder(nn.Module):\n",
    "    def __init__(self, hidden_channels, out_channels, upsample_steps, dropout=0.1):\n",
    "        super().__init__()\n",
    "        self.layers = nn.ModuleList([])\n",
    "        for _ in range(upsample_steps):\n",
    "            self.layers.append(\n",
    "                nn.Sequential(\n",
    "                    ResNetBlock(hidden_channels, hidden_channels, dropout),\n",
    "                    Upsample(hidden_channels)\n",
    "                )\n",
    "            )\n",
    "        self.norm = nn.GroupNorm(num_groups=32, num_channels=hidden_channels, eps=1e-6, affine=True)\n",
    "        self.silu = nn.SiLU()\n",
    "        self.conv_out = nn.Conv2d(\n",
    "            hidden_channels,\n",
    "            out_channels,\n",
    "            kernel_size=3,\n",
    "            stride=1,\n",
    "            padding=1\n",
    "        )\n",
    "\n",
    "    def forward(self, x):\n",
    "        for layer in self.layers:\n",
    "            x = layer(x)\n",
    "        x = self.norm(x)\n",
    "        x = self.silu(x)\n",
    "        x = self.conv_out(x)\n",
    "        return torch.tanh(x)"
   ]
  },
  {
   "cell_type": "markdown",
   "id": "23028786-8c4a-49d1-a9c5-2202c6865936",
   "metadata": {},
   "source": [
    "## Positional Embedings"
   ]
  },
  {
   "cell_type": "code",
   "execution_count": 7,
   "id": "6566bb75-2033-475f-afb3-e45f8ef45730",
   "metadata": {},
   "outputs": [],
   "source": [
    "def build_grid(resolution, max_v=1.):\n",
    "    \"\"\"\n",
    "    :param resolution: tuple of 2 numbers\n",
    "    :return: grid for positional embeddings built on input resolution\n",
    "    \"\"\"\n",
    "    ranges = [np.linspace(0., max_v, num=res) for res in resolution]\n",
    "    grid = np.meshgrid(*ranges, sparse=False, indexing=\"ij\")\n",
    "    grid = np.stack(grid, axis=-1)\n",
    "    grid = np.reshape(grid, [resolution[0], resolution[1], -1])\n",
    "    grid = np.expand_dims(grid, axis=0)\n",
    "    grid = grid.astype(np.float32)\n",
    "    return np.concatenate([grid, max_v - grid], axis=-1)"
   ]
  },
  {
   "cell_type": "code",
   "execution_count": 8,
   "id": "a1a855d0-f928-466b-a5bf-88d32ca4b9f1",
   "metadata": {},
   "outputs": [],
   "source": [
    "class PosEmbeds(nn.Module):\n",
    "    def __init__(self, hidden_size, resolution):\n",
    "        super().__init__()\n",
    "        self.linear = nn.Linear(4, hidden_size)\n",
    "        self.grid = nn.Parameter(Tensor(build_grid(resolution)), requires_grad=False)\n",
    "        \n",
    "    def forward(self, inputs):\n",
    "        pos_emb = self.linear(self.grid).moveaxis(3, 1)\n",
    "        return inputs + pos_emb\n",
    "    \n",
    "    def change_resolution(self, resolution, max_v):\n",
    "        self.grid = nn.Parameter(Tensor(build_grid(resolution, max_v)), requires_grad=False)"
   ]
  },
  {
   "cell_type": "markdown",
   "id": "21115de8-f6a0-4974-a970-b88b0a7a180d",
   "metadata": {},
   "source": [
    "## FeedForward Layer"
   ]
  },
  {
   "cell_type": "code",
   "execution_count": 9,
   "id": "c225be2c-05d3-4213-94dc-3e89957dea7d",
   "metadata": {},
   "outputs": [],
   "source": [
    "class FeedForward(nn.Module):\n",
    "    def __init__(self, in_channels, hidden_channels, out_channels=None, dropout=0.2):\n",
    "        super().__init__()\n",
    "        out_channels = in_channels if out_channels is None else out_channels\n",
    "\n",
    "        self.linear1 = nn.Linear(in_channels, hidden_channels)\n",
    "        self.linear2 = nn.Linear(hidden_channels, out_channels)\n",
    "\n",
    "        self.gelu = nn.GELU()\n",
    "        self.dropout = nn.Dropout(dropout)\n",
    "\n",
    "    def forward(self, x):\n",
    "        x = self.linear1(x)\n",
    "        x = self.gelu(x)\n",
    "        x = self.dropout(x)\n",
    "        x = self.linear2(x)\n",
    "        return x"
   ]
  },
  {
   "cell_type": "markdown",
   "id": "dba54ca9-e291-4f46-98e7-d3587b214e5e",
   "metadata": {},
   "source": [
    "## Transformer Block"
   ]
  },
  {
   "cell_type": "code",
   "execution_count": 10,
   "id": "11f46691-972e-4ddf-9c35-9e72cd2c44fd",
   "metadata": {},
   "outputs": [],
   "source": [
    "class BasicTransformerBlock(nn.Module):\n",
    "    def __init__(self, embed_dim, num_heads, dropout=0.3, context_dim=None):\n",
    "        super().__init__()\n",
    "        \n",
    "        self.attn1 = nn.MultiheadAttention(embed_dim, num_heads, dropout=dropout, batch_first=True)\n",
    "        self.attn2 = nn.MultiheadAttention(embed_dim, num_heads, dropout=dropout, kdim=context_dim, vdim=context_dim, batch_first=True)\n",
    "        self.ff = FeedForward(embed_dim, embed_dim * 4, dropout=dropout)\n",
    "\n",
    "        self.norm1 = nn.LayerNorm(embed_dim)\n",
    "        self.norm2 = nn.LayerNorm(embed_dim)\n",
    "        self.norm3 = nn.LayerNorm(embed_dim)\n",
    "\n",
    "    def forward(self, x, context=None):\n",
    "        h1 = self.norm1(x)\n",
    "        h1, _ = self.attn1(h1, h1, h1, need_weights=False)\n",
    "        x = h1 + x\n",
    "        \n",
    "        h2 = self.norm2(x)\n",
    "        context = h2 if context is None else context\n",
    "        h2, _ = self.attn2(h2, context, context, need_weights=False)\n",
    "        x = h2 + x\n",
    "\n",
    "        h3 = self.norm3(x)\n",
    "        x = self.ff(h3) + x\n",
    "\n",
    "        return x"
   ]
  },
  {
   "cell_type": "code",
   "execution_count": 11,
   "id": "bd8979c4-ac4f-4266-acd1-50357eb92a97",
   "metadata": {},
   "outputs": [],
   "source": [
    "class SpatialTransformer(nn.Module):\n",
    "    \"\"\"\n",
    "    Transformer block for image-like data.\n",
    "    First, project the input (aka embedding)\n",
    "    and reshape to b, t, d.\n",
    "    Then apply standard transformer action.\n",
    "    Finally, reshape to image\n",
    "    \"\"\"\n",
    "    def __init__(self, in_channels, num_heads,\n",
    "                 depth=4, dropout=0.3, context_dim=None):\n",
    "        super().__init__()\n",
    "        self.in_channels = in_channels\n",
    "        \n",
    "        self.norm = nn.GroupNorm(num_groups=32, num_channels=in_channels, eps=1e-6, affine=True)\n",
    "        self.transformer_blocks = nn.ModuleList(\n",
    "            [BasicTransformerBlock(in_channels, num_heads, dropout=dropout, context_dim=context_dim)\n",
    "                for d in range(depth)]\n",
    "        )\n",
    "\n",
    "    def forward(self, x, context=None):\n",
    "        # note: if no context is given, cross-attention defaults to self-attention\n",
    "        b, c, h, w = x.shape\n",
    "        f = x\n",
    "        f = self.norm(f)\n",
    "        f = rearrange(f, 'b c h w -> b (h w) c')\n",
    "        for block in self.transformer_blocks:\n",
    "            f = block(f, context=context)\n",
    "        f = rearrange(f, 'b (h w) c -> b c h w', h=h, w=w)\n",
    "        return f + x"
   ]
  },
  {
   "cell_type": "markdown",
   "id": "b7e4a4b6-3e1f-485c-82ac-1d55b9d1a49e",
   "metadata": {},
   "source": [
    "# TransPath Model"
   ]
  },
  {
   "cell_type": "code",
   "execution_count": 12,
   "id": "fd09ecb1-b577-4cce-80aa-e545e0dbb733",
   "metadata": {},
   "outputs": [],
   "source": [
    "class TransPathModel(nn.Module):\n",
    "    def __init__(self, \n",
    "                in_channels=2, \n",
    "                out_channels=1, \n",
    "                hidden_channels=64,\n",
    "                attn_blocks=4,\n",
    "                attn_heads=4,\n",
    "                cnn_dropout=0.15,\n",
    "                attn_dropout=0.15,\n",
    "                downsample_steps=3, \n",
    "                resolution=(64, 64)):\n",
    "        super().__init__()\n",
    "        \n",
    "        self.encoder = Encoder(in_channels, hidden_channels, downsample_steps, cnn_dropout)\n",
    "        self.decoder = Decoder(hidden_channels, out_channels, downsample_steps, cnn_dropout)\n",
    "        \n",
    "        self.encoder_pos = PosEmbeds(\n",
    "            hidden_channels, \n",
    "            (resolution[0] // 2**downsample_steps, resolution[1] // 2**downsample_steps)\n",
    "        )\n",
    "        self.decoder_pos = PosEmbeds(\n",
    "            hidden_channels, \n",
    "            (resolution[0] // 2**downsample_steps, resolution[1] // 2**downsample_steps)\n",
    "        )\n",
    "\n",
    "        self.transformer = SpatialTransformer(\n",
    "            hidden_channels, \n",
    "            attn_heads,\n",
    "            attn_blocks, \n",
    "            attn_dropout\n",
    "        )\n",
    "\n",
    "    def forward(self, x):\n",
    "        x = self.encoder(x)\n",
    "        x = self.encoder_pos(x)\n",
    "        x = self.transformer(x)\n",
    "        x = self.decoder_pos(x)\n",
    "        x = self.decoder(x)\n",
    "        return x"
   ]
  },
  {
   "cell_type": "markdown",
   "id": "a281b66d-7825-4c10-a1b9-bbe2b71f9bfd",
   "metadata": {},
   "source": [
    "## Training Module"
   ]
  },
  {
   "cell_type": "code",
   "execution_count": 13,
   "id": "f8e70f0b-7353-4a9a-85b7-f9844b30c305",
   "metadata": {},
   "outputs": [],
   "source": [
    "class TransPathLit(L.LightningModule):\n",
    "    def __init__(self, model: nn.Module, mode: str='f', learning_rate: float=1e-4, weight_decay: float=0.0) -> None:\n",
    "        super().__init__()\n",
    "        self.save_hyperparameters()\n",
    "        \n",
    "        self.model = model\n",
    "        self.mode = mode\n",
    "        self.loss = nn.L1Loss() if mode == 'h' else nn.MSELoss()\n",
    "        self.k = 64*64 if mode == 'h' else 1\n",
    "        \n",
    "        self.learning_rate = learning_rate\n",
    "        self.weight_decay = weight_decay\n",
    "\n",
    "    def training_step(\n",
    "        self, batch: tuple[Tensor, Tensor, Tensor, Tensor], batch_idx: int\n",
    "    ) -> STEP_OUTPUT:\n",
    "        map_design, start, goal, gt_hmap = batch\n",
    "        inputs = torch.cat([map_design, start + goal], dim=1) if self.mode in ('f', 'nastar') else torch.cat([map_design, goal], dim=1)\n",
    "        predictions = self.model(inputs)\n",
    "        loss = self.loss((predictions + 1) / 2 * self.k, gt_hmap)\n",
    "        self.log(f'train_loss', loss, on_step=False, on_epoch=True)\n",
    "        return loss\n",
    "\n",
    "    def validation_step(\n",
    "        self, batch: tuple[Tensor, Tensor, Tensor, Tensor], batch_idx: int\n",
    "    ) -> STEP_OUTPUT | None:\n",
    "        map_design, start, goal, gt_hmap = batch\n",
    "        inputs = torch.cat([map_design, start + goal], dim=1) if self.mode in ('f', 'nastar') else torch.cat([map_design, goal], dim=1)\n",
    "        predictions = self.model(inputs)\n",
    "        loss = self.loss((predictions + 1) / 2 * self.k, gt_hmap)\n",
    "        self.log(f'val_loss', loss, on_step=False, on_epoch=True)\n",
    "        return loss\n",
    "\n",
    "    def configure_optimizers(self) -> dict[str, Any]:\n",
    "        optimizer = torch.optim.Adam(self.model.parameters(), lr=self.learning_rate, weight_decay=self.weight_decay)\n",
    "        scheduler = torch.optim.lr_scheduler.OneCycleLR(\n",
    "            optimizer, max_lr=self.learning_rate, total_steps=self.trainer.estimated_stepping_batches\n",
    "        )\n",
    "        return {\n",
    "            \"optimizer\": optimizer,\n",
    "            \"lr_scheduler\": scheduler\n",
    "        }"
   ]
  },
  {
   "cell_type": "code",
   "execution_count": 14,
   "id": "8386804d-e5eb-42db-8da1-d6e35e4a8699",
   "metadata": {},
   "outputs": [],
   "source": [
    "class PathLogger(L.Callback):\n",
    "    def __init__(self, val_batch, num_samples=10, mode='f'):\n",
    "        super().__init__()\n",
    "        map_design, start, goal, gt_hmap = val_batch[:num_samples]\n",
    "        inputs = torch.cat([map_design, start + goal], dim=1) if mode == 'f' else torch.cat([map_design, goal], dim=1)\n",
    "        self.val_samples = inputs[:num_samples]\n",
    "        if mode == 'f':\n",
    "            self.hm = gt_hmap[:num_samples]\n",
    "        elif mode == 'h':\n",
    "            self.hm =  (gt_hmap / gt_hmap.amax(dim=(2, 3), keepdim=True))[:num_samples]\n",
    "        else:\n",
    "            self.hm = gt_hmap[:num_samples]\n",
    "\n",
    "    def on_validation_epoch_end(self, trainer, lightning_module):\n",
    "        val_samples = self.val_samples.to(device=lightning_module.device)\n",
    "        prediction = (lightning_module.model(val_samples) + 1) / 2\n",
    "        if lightning_module.mode == 'h':\n",
    "            prediction = prediction * 64 * 64\n",
    "\n",
    "        trainer.logger.experiment.log({\n",
    "            'data': [wandb.Image(x) for x in torch.cat([self.val_samples, self.hm], dim=1)],\n",
    "            'predictions': [wandb.Image(x) for x in torch.cat([val_samples, prediction], dim=1)]\n",
    "        })"
   ]
  },
  {
   "cell_type": "markdown",
   "id": "a14070d7-16ee-4e67-825a-1d099374b582",
   "metadata": {},
   "source": [
    "# Dataset"
   ]
  },
  {
   "cell_type": "code",
   "execution_count": 15,
   "id": "e4ff4530-0e8f-4667-8fbb-7bb0f72bb13f",
   "metadata": {},
   "outputs": [],
   "source": [
    "class GridData(Dataset):\n",
    "    \"\"\"\n",
    "    'mode' argument defines type of ground truth values:\n",
    "        f - focal values\n",
    "        h - absolute ideal heuristic values\n",
    "        cf - correction factor values\n",
    "    \"\"\"\n",
    "    def __init__(self, path, mode='f', clip_value=0.95, img_size=64):\n",
    "        self.img_size = img_size\n",
    "        self.clip_v = clip_value\n",
    "        self.mode = mode\n",
    "\n",
    "        self.maps   = np.load(os.path.join(path,    'maps.npy'),    mmap_mode='c')\n",
    "        self.goals  = np.load(os.path.join(path,    'goals.npy'),   mmap_mode='c')\n",
    "        self.starts = np.load(os.path.join(path,    'starts.npy'),  mmap_mode='c')\n",
    "        \n",
    "        file_gt = {'f' : 'focal.npy', 'h':'abs.npy', 'cf': 'cf.npy'}[mode]\n",
    "        self.gt_values = np.load(os.path.join(path, file_gt), mmap_mode='c')\n",
    "\n",
    "\n",
    "    def __len__(self):\n",
    "        return len(self.gt_values)\n",
    "    \n",
    "    def __getitem__(self, idx):\n",
    "        gt_ = torch.from_numpy(self.gt_values[idx].astype('float32'))\n",
    "        if self.mode == 'f':\n",
    "            gt_=  torch.where( gt_ >= self.clip_v, gt_ , torch.zeros_like( torch.from_numpy(self.gt_values[idx])))\n",
    "        return (torch.from_numpy(self.maps[idx].astype('float32')), \n",
    "                torch.from_numpy(self.starts[idx].astype('float32')), \n",
    "                torch.from_numpy(self.goals[idx].astype('float32')), \n",
    "                gt_ )"
   ]
  },
  {
   "cell_type": "code",
   "execution_count": 16,
   "id": "bed5b24d-ff1c-4f5b-9791-691ade4b6424",
   "metadata": {},
   "outputs": [],
   "source": [
    "dataset_dir = './TransPath_data_mini'\n",
    "mode = 'f'\n",
    "batch_size = 64\n",
    "max_epochs = 100\n",
    "learning_rate = 1e-4\n",
    "weight_decay = 0.0\n",
    "limit_train_batches = 500\n",
    "limit_val_batches = 100\n",
    "proj_name = 'TransPath_runs'\n",
    "run_name = 'default'"
   ]
  },
  {
   "cell_type": "code",
   "execution_count": 17,
   "id": "915559fb-958e-47bc-a0d7-746368086ee9",
   "metadata": {},
   "outputs": [],
   "source": [
    "# Uncomment next lines if you want to get full dataset\n",
    "# ! python download.py\n",
    "# dataset_dir = './TransPath_data'"
   ]
  },
  {
   "cell_type": "code",
   "execution_count": 18,
   "id": "5aa10a1a-e6aa-4282-8bb2-13427f830581",
   "metadata": {},
   "outputs": [],
   "source": [
    "train_data = GridData(\n",
    "        path=f'{dataset_dir}/train',\n",
    "        mode=mode\n",
    "    )\n",
    "val_data = GridData(\n",
    "        path=f'{dataset_dir}/val',\n",
    "        mode=mode\n",
    "    )\n",
    "resolution = (train_data.img_size, train_data.img_size)"
   ]
  },
  {
   "cell_type": "code",
   "execution_count": 19,
   "id": "967677a4-992f-4969-8b0f-3802480ae10a",
   "metadata": {},
   "outputs": [],
   "source": [
    "torch.manual_seed(42)\n",
    "train_dataloader = DataLoader(\n",
    "        train_data, \n",
    "        batch_size=batch_size,\n",
    "        shuffle=True, \n",
    "        # num_workers=multiprocessing.cpu_count(), freezes jupyter notebook\n",
    "        pin_memory=True\n",
    "    )\n",
    "val_dataloader = DataLoader(\n",
    "        val_data, \n",
    "        batch_size=batch_size,\n",
    "        shuffle=False, \n",
    "        # num_workers=multiprocessing.cpu_count(), freezes jupyter notebook\n",
    "        pin_memory=True\n",
    "    )\n",
    "samples = next(iter(val_dataloader))"
   ]
  },
  {
   "cell_type": "markdown",
   "id": "3906e969-1018-419b-9b44-fbca5842e800",
   "metadata": {},
   "source": [
    "# Training"
   ]
  },
  {
   "cell_type": "code",
   "execution_count": 20,
   "id": "e3632972-b79e-4dca-8db8-de725a316e22",
   "metadata": {},
   "outputs": [
    {
     "name": "stderr",
     "output_type": "stream",
     "text": [
      "C:\\Users\\danii\\.conda\\envs\\HS_HW_TransPath\\Lib\\site-packages\\lightning\\pytorch\\utilities\\parsing.py:208: Attribute 'model' is an instance of `nn.Module` and is already saved during checkpointing. It is recommended to ignore them using `self.save_hyperparameters(ignore=['model'])`.\n",
      "GPU available: True (cuda), used: True\n",
      "TPU available: False, using: 0 TPU cores\n",
      "HPU available: False, using: 0 HPUs\n"
     ]
    }
   ],
   "source": [
    "torch.manual_seed(42)\n",
    "callback = PathLogger(samples, mode=mode)\n",
    "wandb_logger = WandbLogger(project=proj_name, name=f'{run_name}_{mode}', log_model='all')\n",
    "\n",
    "model = TransPathModel()\n",
    "lit_module = TransPathLit(\n",
    "        model=model,\n",
    "        mode=mode,\n",
    "        learning_rate=learning_rate,\n",
    "        weight_decay=weight_decay\n",
    "    )\n",
    "\n",
    "trainer = L.Trainer(\n",
    "        logger=wandb_logger,\n",
    "        accelerator=\"auto\",\n",
    "        max_epochs=max_epochs,\n",
    "        deterministic=False,\n",
    "        limit_train_batches=limit_train_batches,\n",
    "        limit_val_batches=limit_val_batches,\n",
    "        callbacks=[callback],\n",
    "    )"
   ]
  },
  {
   "cell_type": "code",
   "execution_count": 21,
   "id": "7d2025b7-7fea-4f3a-b5e0-d32d76911912",
   "metadata": {},
   "outputs": [
    {
     "name": "stderr",
     "output_type": "stream",
     "text": [
      "You are using a CUDA device ('NVIDIA GeForce RTX 3050 Laptop GPU') that has Tensor Cores. To properly utilize them, you should set `torch.set_float32_matmul_precision('medium' | 'high')` which will trade-off precision for performance. For more details, read https://pytorch.org/docs/stable/generated/torch.set_float32_matmul_precision.html#torch.set_float32_matmul_precision\n",
      "wandb: Using wandb-core as the SDK backend.  Please refer to https://wandb.me/wandb-core for more information.\n",
      "wandb: Currently logged in as: daniil-drozdovjr (daniil-drozdovjr-saint-petersburg-state-university). Use `wandb login --relogin` to force relogin\n"
     ]
    },
    {
     "data": {
      "application/vnd.jupyter.widget-view+json": {
       "model_id": "c4e9480a88b340eba486bdc20a7c1a37",
       "version_major": 2,
       "version_minor": 0
      },
      "text/plain": [
       "VBox(children=(Label(value='Waiting for wandb.init()...\\r'), FloatProgress(value=0.011111111111111112, max=1.0…"
      ]
     },
     "metadata": {},
     "output_type": "display_data"
    },
    {
     "data": {
      "text/html": [
       "Tracking run with wandb version 0.19.0"
      ],
      "text/plain": [
       "<IPython.core.display.HTML object>"
      ]
     },
     "metadata": {},
     "output_type": "display_data"
    },
    {
     "data": {
      "text/html": [
       "Run data is saved locally in <code>.\\wandb\\run-20241207_203339-uwi59nrm</code>"
      ],
      "text/plain": [
       "<IPython.core.display.HTML object>"
      ]
     },
     "metadata": {},
     "output_type": "display_data"
    },
    {
     "data": {
      "text/html": [
       "Syncing run <strong><a href='https://wandb.ai/daniil-drozdovjr-saint-petersburg-state-university/TransPath_runs/runs/uwi59nrm' target=\"_blank\">default_f</a></strong> to <a href='https://wandb.ai/daniil-drozdovjr-saint-petersburg-state-university/TransPath_runs' target=\"_blank\">Weights & Biases</a> (<a href='https://wandb.me/developer-guide' target=\"_blank\">docs</a>)<br/>"
      ],
      "text/plain": [
       "<IPython.core.display.HTML object>"
      ]
     },
     "metadata": {},
     "output_type": "display_data"
    },
    {
     "data": {
      "text/html": [
       " View project at <a href='https://wandb.ai/daniil-drozdovjr-saint-petersburg-state-university/TransPath_runs' target=\"_blank\">https://wandb.ai/daniil-drozdovjr-saint-petersburg-state-university/TransPath_runs</a>"
      ],
      "text/plain": [
       "<IPython.core.display.HTML object>"
      ]
     },
     "metadata": {},
     "output_type": "display_data"
    },
    {
     "data": {
      "text/html": [
       " View run at <a href='https://wandb.ai/daniil-drozdovjr-saint-petersburg-state-university/TransPath_runs/runs/uwi59nrm' target=\"_blank\">https://wandb.ai/daniil-drozdovjr-saint-petersburg-state-university/TransPath_runs/runs/uwi59nrm</a>"
      ],
      "text/plain": [
       "<IPython.core.display.HTML object>"
      ]
     },
     "metadata": {},
     "output_type": "display_data"
    },
    {
     "name": "stderr",
     "output_type": "stream",
     "text": [
      "LOCAL_RANK: 0 - CUDA_VISIBLE_DEVICES: [0]\n",
      "Loading `train_dataloader` to estimate number of stepping batches.\n",
      "C:\\Users\\danii\\.conda\\envs\\HS_HW_TransPath\\Lib\\site-packages\\lightning\\pytorch\\trainer\\connectors\\data_connector.py:424: The 'train_dataloader' does not have many workers which may be a bottleneck. Consider increasing the value of the `num_workers` argument` to `num_workers=19` in the `DataLoader` to improve performance.\n",
      "\n",
      "  | Name  | Type           | Params | Mode \n",
      "-------------------------------------------------\n",
      "0 | model | TransPathModel | 963 K  | train\n",
      "1 | loss  | MSELoss        | 0      | train\n",
      "-------------------------------------------------\n",
      "962 K     Trainable params\n",
      "512       Non-trainable params\n",
      "963 K     Total params\n",
      "3.854     Total estimated model params size (MB)\n",
      "135       Modules in train mode\n",
      "0         Modules in eval mode\n"
     ]
    },
    {
     "data": {
      "application/vnd.jupyter.widget-view+json": {
       "model_id": "bd905f516cab4b3cbbec5c58611ef273",
       "version_major": 2,
       "version_minor": 0
      },
      "text/plain": [
       "Sanity Checking: |                                                                                            …"
      ]
     },
     "metadata": {},
     "output_type": "display_data"
    },
    {
     "name": "stderr",
     "output_type": "stream",
     "text": [
      "C:\\Users\\danii\\.conda\\envs\\HS_HW_TransPath\\Lib\\site-packages\\lightning\\pytorch\\trainer\\connectors\\data_connector.py:424: The 'val_dataloader' does not have many workers which may be a bottleneck. Consider increasing the value of the `num_workers` argument` to `num_workers=19` in the `DataLoader` to improve performance.\n"
     ]
    },
    {
     "data": {
      "application/vnd.jupyter.widget-view+json": {
       "model_id": "f39d37d7c2ce47a98e1c936f080cf0dc",
       "version_major": 2,
       "version_minor": 0
      },
      "text/plain": [
       "Training: |                                                                                                   …"
      ]
     },
     "metadata": {},
     "output_type": "display_data"
    },
    {
     "data": {
      "application/vnd.jupyter.widget-view+json": {
       "model_id": "60370bb0a53243f0bc5173ed01227f51",
       "version_major": 2,
       "version_minor": 0
      },
      "text/plain": [
       "Validation: |                                                                                                 …"
      ]
     },
     "metadata": {},
     "output_type": "display_data"
    },
    {
     "data": {
      "application/vnd.jupyter.widget-view+json": {
       "model_id": "8a4f4738f5454667a926912da40ddfda",
       "version_major": 2,
       "version_minor": 0
      },
      "text/plain": [
       "Validation: |                                                                                                 …"
      ]
     },
     "metadata": {},
     "output_type": "display_data"
    },
    {
     "data": {
      "application/vnd.jupyter.widget-view+json": {
       "model_id": "f0adafc461704b08abd5442b00ebb5c6",
       "version_major": 2,
       "version_minor": 0
      },
      "text/plain": [
       "Validation: |                                                                                                 …"
      ]
     },
     "metadata": {},
     "output_type": "display_data"
    },
    {
     "data": {
      "application/vnd.jupyter.widget-view+json": {
       "model_id": "ad66ad098ac844cbad8db5bc785251c4",
       "version_major": 2,
       "version_minor": 0
      },
      "text/plain": [
       "Validation: |                                                                                                 …"
      ]
     },
     "metadata": {},
     "output_type": "display_data"
    },
    {
     "data": {
      "application/vnd.jupyter.widget-view+json": {
       "model_id": "57353a71b1964abfb4cff06d8aeb578d",
       "version_major": 2,
       "version_minor": 0
      },
      "text/plain": [
       "Validation: |                                                                                                 …"
      ]
     },
     "metadata": {},
     "output_type": "display_data"
    },
    {
     "data": {
      "application/vnd.jupyter.widget-view+json": {
       "model_id": "2e41827fcd6543419f454f639c3a8d78",
       "version_major": 2,
       "version_minor": 0
      },
      "text/plain": [
       "Validation: |                                                                                                 …"
      ]
     },
     "metadata": {},
     "output_type": "display_data"
    },
    {
     "data": {
      "application/vnd.jupyter.widget-view+json": {
       "model_id": "2b67d283d8254acab9d7667e26639b72",
       "version_major": 2,
       "version_minor": 0
      },
      "text/plain": [
       "Validation: |                                                                                                 …"
      ]
     },
     "metadata": {},
     "output_type": "display_data"
    },
    {
     "data": {
      "application/vnd.jupyter.widget-view+json": {
       "model_id": "47f69518158c49b3aa3c0eb31f8d5f63",
       "version_major": 2,
       "version_minor": 0
      },
      "text/plain": [
       "Validation: |                                                                                                 …"
      ]
     },
     "metadata": {},
     "output_type": "display_data"
    },
    {
     "data": {
      "application/vnd.jupyter.widget-view+json": {
       "model_id": "6ace89d688f3474eb51589964b81dca7",
       "version_major": 2,
       "version_minor": 0
      },
      "text/plain": [
       "Validation: |                                                                                                 …"
      ]
     },
     "metadata": {},
     "output_type": "display_data"
    },
    {
     "data": {
      "application/vnd.jupyter.widget-view+json": {
       "model_id": "5b9eabe7131c40d4944c9552aa7e3bc8",
       "version_major": 2,
       "version_minor": 0
      },
      "text/plain": [
       "Validation: |                                                                                                 …"
      ]
     },
     "metadata": {},
     "output_type": "display_data"
    },
    {
     "data": {
      "application/vnd.jupyter.widget-view+json": {
       "model_id": "406bde0122ee4f8caa83b49dc17f4143",
       "version_major": 2,
       "version_minor": 0
      },
      "text/plain": [
       "Validation: |                                                                                                 …"
      ]
     },
     "metadata": {},
     "output_type": "display_data"
    },
    {
     "data": {
      "application/vnd.jupyter.widget-view+json": {
       "model_id": "05643ce6d1c04822a44b3b8745b49a49",
       "version_major": 2,
       "version_minor": 0
      },
      "text/plain": [
       "Validation: |                                                                                                 …"
      ]
     },
     "metadata": {},
     "output_type": "display_data"
    },
    {
     "data": {
      "application/vnd.jupyter.widget-view+json": {
       "model_id": "f225e9bfe93d44c59429efdef597394b",
       "version_major": 2,
       "version_minor": 0
      },
      "text/plain": [
       "Validation: |                                                                                                 …"
      ]
     },
     "metadata": {},
     "output_type": "display_data"
    },
    {
     "data": {
      "application/vnd.jupyter.widget-view+json": {
       "model_id": "1cdbf4e4a0be4f83a7df9f638c8413fe",
       "version_major": 2,
       "version_minor": 0
      },
      "text/plain": [
       "Validation: |                                                                                                 …"
      ]
     },
     "metadata": {},
     "output_type": "display_data"
    },
    {
     "data": {
      "application/vnd.jupyter.widget-view+json": {
       "model_id": "4039552f55bc41dcbe0f691971efd394",
       "version_major": 2,
       "version_minor": 0
      },
      "text/plain": [
       "Validation: |                                                                                                 …"
      ]
     },
     "metadata": {},
     "output_type": "display_data"
    },
    {
     "data": {
      "application/vnd.jupyter.widget-view+json": {
       "model_id": "12d88ed73f6047d99b00cfa1676b183a",
       "version_major": 2,
       "version_minor": 0
      },
      "text/plain": [
       "Validation: |                                                                                                 …"
      ]
     },
     "metadata": {},
     "output_type": "display_data"
    },
    {
     "data": {
      "application/vnd.jupyter.widget-view+json": {
       "model_id": "cfaa57da6dea4dd7a8fdb934d334980f",
       "version_major": 2,
       "version_minor": 0
      },
      "text/plain": [
       "Validation: |                                                                                                 …"
      ]
     },
     "metadata": {},
     "output_type": "display_data"
    },
    {
     "data": {
      "application/vnd.jupyter.widget-view+json": {
       "model_id": "584bd6501d7c450c81338781873d0866",
       "version_major": 2,
       "version_minor": 0
      },
      "text/plain": [
       "Validation: |                                                                                                 …"
      ]
     },
     "metadata": {},
     "output_type": "display_data"
    },
    {
     "data": {
      "application/vnd.jupyter.widget-view+json": {
       "model_id": "5cbeb1eaa1c84c4e91a6a08878d5f654",
       "version_major": 2,
       "version_minor": 0
      },
      "text/plain": [
       "Validation: |                                                                                                 …"
      ]
     },
     "metadata": {},
     "output_type": "display_data"
    },
    {
     "data": {
      "application/vnd.jupyter.widget-view+json": {
       "model_id": "90ffb1037e074dd1a62a030fe1c7164a",
       "version_major": 2,
       "version_minor": 0
      },
      "text/plain": [
       "Validation: |                                                                                                 …"
      ]
     },
     "metadata": {},
     "output_type": "display_data"
    },
    {
     "data": {
      "application/vnd.jupyter.widget-view+json": {
       "model_id": "0288e7530e94463c911c129040117031",
       "version_major": 2,
       "version_minor": 0
      },
      "text/plain": [
       "Validation: |                                                                                                 …"
      ]
     },
     "metadata": {},
     "output_type": "display_data"
    },
    {
     "data": {
      "application/vnd.jupyter.widget-view+json": {
       "model_id": "42ded45bc4474060a018fa4280a40521",
       "version_major": 2,
       "version_minor": 0
      },
      "text/plain": [
       "Validation: |                                                                                                 …"
      ]
     },
     "metadata": {},
     "output_type": "display_data"
    },
    {
     "data": {
      "application/vnd.jupyter.widget-view+json": {
       "model_id": "e740f71071d64c768ec50930aae82f9c",
       "version_major": 2,
       "version_minor": 0
      },
      "text/plain": [
       "Validation: |                                                                                                 …"
      ]
     },
     "metadata": {},
     "output_type": "display_data"
    },
    {
     "data": {
      "application/vnd.jupyter.widget-view+json": {
       "model_id": "7a34b1146d4847149fc27615eb61b145",
       "version_major": 2,
       "version_minor": 0
      },
      "text/plain": [
       "Validation: |                                                                                                 …"
      ]
     },
     "metadata": {},
     "output_type": "display_data"
    },
    {
     "data": {
      "application/vnd.jupyter.widget-view+json": {
       "model_id": "012461cde4c94069b18629abab6160e1",
       "version_major": 2,
       "version_minor": 0
      },
      "text/plain": [
       "Validation: |                                                                                                 …"
      ]
     },
     "metadata": {},
     "output_type": "display_data"
    },
    {
     "data": {
      "application/vnd.jupyter.widget-view+json": {
       "model_id": "c0072d0ff8c04a5b9777b6857699a74d",
       "version_major": 2,
       "version_minor": 0
      },
      "text/plain": [
       "Validation: |                                                                                                 …"
      ]
     },
     "metadata": {},
     "output_type": "display_data"
    },
    {
     "data": {
      "application/vnd.jupyter.widget-view+json": {
       "model_id": "58b1e308368e41f8a796b863554a5b9e",
       "version_major": 2,
       "version_minor": 0
      },
      "text/plain": [
       "Validation: |                                                                                                 …"
      ]
     },
     "metadata": {},
     "output_type": "display_data"
    },
    {
     "data": {
      "application/vnd.jupyter.widget-view+json": {
       "model_id": "609cb2b451fd4ac7a6defe15324baafc",
       "version_major": 2,
       "version_minor": 0
      },
      "text/plain": [
       "Validation: |                                                                                                 …"
      ]
     },
     "metadata": {},
     "output_type": "display_data"
    },
    {
     "data": {
      "application/vnd.jupyter.widget-view+json": {
       "model_id": "8359aa208c5043dcb3954c37a7b3df1d",
       "version_major": 2,
       "version_minor": 0
      },
      "text/plain": [
       "Validation: |                                                                                                 …"
      ]
     },
     "metadata": {},
     "output_type": "display_data"
    },
    {
     "data": {
      "application/vnd.jupyter.widget-view+json": {
       "model_id": "5fb248474a524e5dac99f85701ffd31e",
       "version_major": 2,
       "version_minor": 0
      },
      "text/plain": [
       "Validation: |                                                                                                 …"
      ]
     },
     "metadata": {},
     "output_type": "display_data"
    },
    {
     "data": {
      "application/vnd.jupyter.widget-view+json": {
       "model_id": "fa44b0f34aae4d07a2435c9cada4a703",
       "version_major": 2,
       "version_minor": 0
      },
      "text/plain": [
       "Validation: |                                                                                                 …"
      ]
     },
     "metadata": {},
     "output_type": "display_data"
    },
    {
     "data": {
      "application/vnd.jupyter.widget-view+json": {
       "model_id": "7a51918e264b443b8517ef9d4f5a1a1e",
       "version_major": 2,
       "version_minor": 0
      },
      "text/plain": [
       "Validation: |                                                                                                 …"
      ]
     },
     "metadata": {},
     "output_type": "display_data"
    },
    {
     "data": {
      "application/vnd.jupyter.widget-view+json": {
       "model_id": "5235e065f7044826a8972f226a6307ef",
       "version_major": 2,
       "version_minor": 0
      },
      "text/plain": [
       "Validation: |                                                                                                 …"
      ]
     },
     "metadata": {},
     "output_type": "display_data"
    },
    {
     "data": {
      "application/vnd.jupyter.widget-view+json": {
       "model_id": "bb571398cb0242e2b21536cfbf984cbd",
       "version_major": 2,
       "version_minor": 0
      },
      "text/plain": [
       "Validation: |                                                                                                 …"
      ]
     },
     "metadata": {},
     "output_type": "display_data"
    },
    {
     "data": {
      "application/vnd.jupyter.widget-view+json": {
       "model_id": "68bd4043245147a4b3d325277c37b100",
       "version_major": 2,
       "version_minor": 0
      },
      "text/plain": [
       "Validation: |                                                                                                 …"
      ]
     },
     "metadata": {},
     "output_type": "display_data"
    },
    {
     "data": {
      "application/vnd.jupyter.widget-view+json": {
       "model_id": "51c08f79749b47c8b3081b42871db5a5",
       "version_major": 2,
       "version_minor": 0
      },
      "text/plain": [
       "Validation: |                                                                                                 …"
      ]
     },
     "metadata": {},
     "output_type": "display_data"
    },
    {
     "data": {
      "application/vnd.jupyter.widget-view+json": {
       "model_id": "bc9d8aba34974797b4d87f2924178c2f",
       "version_major": 2,
       "version_minor": 0
      },
      "text/plain": [
       "Validation: |                                                                                                 …"
      ]
     },
     "metadata": {},
     "output_type": "display_data"
    },
    {
     "data": {
      "application/vnd.jupyter.widget-view+json": {
       "model_id": "83529af82c494e05b60c01e71da4727e",
       "version_major": 2,
       "version_minor": 0
      },
      "text/plain": [
       "Validation: |                                                                                                 …"
      ]
     },
     "metadata": {},
     "output_type": "display_data"
    },
    {
     "data": {
      "application/vnd.jupyter.widget-view+json": {
       "model_id": "4df29799504b4bbc9217528a6c94b56b",
       "version_major": 2,
       "version_minor": 0
      },
      "text/plain": [
       "Validation: |                                                                                                 …"
      ]
     },
     "metadata": {},
     "output_type": "display_data"
    },
    {
     "data": {
      "application/vnd.jupyter.widget-view+json": {
       "model_id": "1b7f610920504f6394922033cbdc1d11",
       "version_major": 2,
       "version_minor": 0
      },
      "text/plain": [
       "Validation: |                                                                                                 …"
      ]
     },
     "metadata": {},
     "output_type": "display_data"
    },
    {
     "data": {
      "application/vnd.jupyter.widget-view+json": {
       "model_id": "90b6c0d5f16d48a6bead34a849bd491a",
       "version_major": 2,
       "version_minor": 0
      },
      "text/plain": [
       "Validation: |                                                                                                 …"
      ]
     },
     "metadata": {},
     "output_type": "display_data"
    },
    {
     "data": {
      "application/vnd.jupyter.widget-view+json": {
       "model_id": "13df2fe5ae8441ccb29a9ef82389bc83",
       "version_major": 2,
       "version_minor": 0
      },
      "text/plain": [
       "Validation: |                                                                                                 …"
      ]
     },
     "metadata": {},
     "output_type": "display_data"
    },
    {
     "data": {
      "application/vnd.jupyter.widget-view+json": {
       "model_id": "c54b32f31c6141bc9574349c84d52b91",
       "version_major": 2,
       "version_minor": 0
      },
      "text/plain": [
       "Validation: |                                                                                                 …"
      ]
     },
     "metadata": {},
     "output_type": "display_data"
    },
    {
     "data": {
      "application/vnd.jupyter.widget-view+json": {
       "model_id": "04ff3ac633564b958353d48424e77f3c",
       "version_major": 2,
       "version_minor": 0
      },
      "text/plain": [
       "Validation: |                                                                                                 …"
      ]
     },
     "metadata": {},
     "output_type": "display_data"
    },
    {
     "data": {
      "application/vnd.jupyter.widget-view+json": {
       "model_id": "fe5bdd07788b4f79bfea0ec6b3e04d0e",
       "version_major": 2,
       "version_minor": 0
      },
      "text/plain": [
       "Validation: |                                                                                                 …"
      ]
     },
     "metadata": {},
     "output_type": "display_data"
    },
    {
     "data": {
      "application/vnd.jupyter.widget-view+json": {
       "model_id": "d57c27e3a09b4d13a401010370584150",
       "version_major": 2,
       "version_minor": 0
      },
      "text/plain": [
       "Validation: |                                                                                                 …"
      ]
     },
     "metadata": {},
     "output_type": "display_data"
    },
    {
     "data": {
      "application/vnd.jupyter.widget-view+json": {
       "model_id": "9a59ceefeb0e47fd8234a03142d8573f",
       "version_major": 2,
       "version_minor": 0
      },
      "text/plain": [
       "Validation: |                                                                                                 …"
      ]
     },
     "metadata": {},
     "output_type": "display_data"
    },
    {
     "data": {
      "application/vnd.jupyter.widget-view+json": {
       "model_id": "376124b06b9a4f40abc16e3b3e37bc44",
       "version_major": 2,
       "version_minor": 0
      },
      "text/plain": [
       "Validation: |                                                                                                 …"
      ]
     },
     "metadata": {},
     "output_type": "display_data"
    },
    {
     "data": {
      "application/vnd.jupyter.widget-view+json": {
       "model_id": "18e9dab8f489416884d0dbd42a346821",
       "version_major": 2,
       "version_minor": 0
      },
      "text/plain": [
       "Validation: |                                                                                                 …"
      ]
     },
     "metadata": {},
     "output_type": "display_data"
    },
    {
     "data": {
      "application/vnd.jupyter.widget-view+json": {
       "model_id": "23316613799549d29843998448b752fd",
       "version_major": 2,
       "version_minor": 0
      },
      "text/plain": [
       "Validation: |                                                                                                 …"
      ]
     },
     "metadata": {},
     "output_type": "display_data"
    },
    {
     "data": {
      "application/vnd.jupyter.widget-view+json": {
       "model_id": "7d189276a0954f23b2ce5ee36f59531b",
       "version_major": 2,
       "version_minor": 0
      },
      "text/plain": [
       "Validation: |                                                                                                 …"
      ]
     },
     "metadata": {},
     "output_type": "display_data"
    },
    {
     "data": {
      "application/vnd.jupyter.widget-view+json": {
       "model_id": "ec9c3e811c3d455c9a973d964f343b87",
       "version_major": 2,
       "version_minor": 0
      },
      "text/plain": [
       "Validation: |                                                                                                 …"
      ]
     },
     "metadata": {},
     "output_type": "display_data"
    },
    {
     "data": {
      "application/vnd.jupyter.widget-view+json": {
       "model_id": "6ce5544ed5774a548d9cd782a83b0684",
       "version_major": 2,
       "version_minor": 0
      },
      "text/plain": [
       "Validation: |                                                                                                 …"
      ]
     },
     "metadata": {},
     "output_type": "display_data"
    },
    {
     "data": {
      "application/vnd.jupyter.widget-view+json": {
       "model_id": "12f21b37a390484195b3d4e056090896",
       "version_major": 2,
       "version_minor": 0
      },
      "text/plain": [
       "Validation: |                                                                                                 …"
      ]
     },
     "metadata": {},
     "output_type": "display_data"
    },
    {
     "data": {
      "application/vnd.jupyter.widget-view+json": {
       "model_id": "471f3690311d4a539029145a3f4fdd69",
       "version_major": 2,
       "version_minor": 0
      },
      "text/plain": [
       "Validation: |                                                                                                 …"
      ]
     },
     "metadata": {},
     "output_type": "display_data"
    },
    {
     "data": {
      "application/vnd.jupyter.widget-view+json": {
       "model_id": "4d60b3f80abb43a7a0d383caa034af6b",
       "version_major": 2,
       "version_minor": 0
      },
      "text/plain": [
       "Validation: |                                                                                                 …"
      ]
     },
     "metadata": {},
     "output_type": "display_data"
    },
    {
     "data": {
      "application/vnd.jupyter.widget-view+json": {
       "model_id": "521043bc556a4c29bcfd7e57b795cc38",
       "version_major": 2,
       "version_minor": 0
      },
      "text/plain": [
       "Validation: |                                                                                                 …"
      ]
     },
     "metadata": {},
     "output_type": "display_data"
    },
    {
     "data": {
      "application/vnd.jupyter.widget-view+json": {
       "model_id": "c8912576e4574ee4b00fbd7c86e1306d",
       "version_major": 2,
       "version_minor": 0
      },
      "text/plain": [
       "Validation: |                                                                                                 …"
      ]
     },
     "metadata": {},
     "output_type": "display_data"
    },
    {
     "data": {
      "application/vnd.jupyter.widget-view+json": {
       "model_id": "8bbdd3202670474c9ba2f3a42d89d046",
       "version_major": 2,
       "version_minor": 0
      },
      "text/plain": [
       "Validation: |                                                                                                 …"
      ]
     },
     "metadata": {},
     "output_type": "display_data"
    },
    {
     "data": {
      "application/vnd.jupyter.widget-view+json": {
       "model_id": "af7b521ffc6b4119b1a8cb98897bfc23",
       "version_major": 2,
       "version_minor": 0
      },
      "text/plain": [
       "Validation: |                                                                                                 …"
      ]
     },
     "metadata": {},
     "output_type": "display_data"
    },
    {
     "data": {
      "application/vnd.jupyter.widget-view+json": {
       "model_id": "2c88d606c5954be6b36111d2ce4fb096",
       "version_major": 2,
       "version_minor": 0
      },
      "text/plain": [
       "Validation: |                                                                                                 …"
      ]
     },
     "metadata": {},
     "output_type": "display_data"
    },
    {
     "data": {
      "application/vnd.jupyter.widget-view+json": {
       "model_id": "616acb59f0234d538857120047acd739",
       "version_major": 2,
       "version_minor": 0
      },
      "text/plain": [
       "Validation: |                                                                                                 …"
      ]
     },
     "metadata": {},
     "output_type": "display_data"
    },
    {
     "data": {
      "application/vnd.jupyter.widget-view+json": {
       "model_id": "7fbee56203644c46a2841987c3cab891",
       "version_major": 2,
       "version_minor": 0
      },
      "text/plain": [
       "Validation: |                                                                                                 …"
      ]
     },
     "metadata": {},
     "output_type": "display_data"
    },
    {
     "data": {
      "application/vnd.jupyter.widget-view+json": {
       "model_id": "aac305879fc8432b8c851f10d1b87622",
       "version_major": 2,
       "version_minor": 0
      },
      "text/plain": [
       "Validation: |                                                                                                 …"
      ]
     },
     "metadata": {},
     "output_type": "display_data"
    },
    {
     "data": {
      "application/vnd.jupyter.widget-view+json": {
       "model_id": "ebbfd385f9ed4a82a022e1e94c5ca294",
       "version_major": 2,
       "version_minor": 0
      },
      "text/plain": [
       "Validation: |                                                                                                 …"
      ]
     },
     "metadata": {},
     "output_type": "display_data"
    },
    {
     "data": {
      "application/vnd.jupyter.widget-view+json": {
       "model_id": "0055f2ed38a44512a155e9507eff58dc",
       "version_major": 2,
       "version_minor": 0
      },
      "text/plain": [
       "Validation: |                                                                                                 …"
      ]
     },
     "metadata": {},
     "output_type": "display_data"
    },
    {
     "data": {
      "application/vnd.jupyter.widget-view+json": {
       "model_id": "cd64ec2a836e49c0905a89755b27d16c",
       "version_major": 2,
       "version_minor": 0
      },
      "text/plain": [
       "Validation: |                                                                                                 …"
      ]
     },
     "metadata": {},
     "output_type": "display_data"
    },
    {
     "data": {
      "application/vnd.jupyter.widget-view+json": {
       "model_id": "38014c14f83c437cb867d363f09613d0",
       "version_major": 2,
       "version_minor": 0
      },
      "text/plain": [
       "Validation: |                                                                                                 …"
      ]
     },
     "metadata": {},
     "output_type": "display_data"
    },
    {
     "data": {
      "application/vnd.jupyter.widget-view+json": {
       "model_id": "218378a772b0457ca12eaed985855b16",
       "version_major": 2,
       "version_minor": 0
      },
      "text/plain": [
       "Validation: |                                                                                                 …"
      ]
     },
     "metadata": {},
     "output_type": "display_data"
    },
    {
     "data": {
      "application/vnd.jupyter.widget-view+json": {
       "model_id": "f58ebc5e726e46d5adc5a6e4a99df88c",
       "version_major": 2,
       "version_minor": 0
      },
      "text/plain": [
       "Validation: |                                                                                                 …"
      ]
     },
     "metadata": {},
     "output_type": "display_data"
    },
    {
     "data": {
      "application/vnd.jupyter.widget-view+json": {
       "model_id": "3d9883b34d2c429488927b2213d009ab",
       "version_major": 2,
       "version_minor": 0
      },
      "text/plain": [
       "Validation: |                                                                                                 …"
      ]
     },
     "metadata": {},
     "output_type": "display_data"
    },
    {
     "data": {
      "application/vnd.jupyter.widget-view+json": {
       "model_id": "4a265626c9324032bfdc4a6716ea0f22",
       "version_major": 2,
       "version_minor": 0
      },
      "text/plain": [
       "Validation: |                                                                                                 …"
      ]
     },
     "metadata": {},
     "output_type": "display_data"
    },
    {
     "data": {
      "application/vnd.jupyter.widget-view+json": {
       "model_id": "9878a314503f44d298bea21ca730aabb",
       "version_major": 2,
       "version_minor": 0
      },
      "text/plain": [
       "Validation: |                                                                                                 …"
      ]
     },
     "metadata": {},
     "output_type": "display_data"
    },
    {
     "data": {
      "application/vnd.jupyter.widget-view+json": {
       "model_id": "3d3a07fa9532451abe1d22feaff7dd9a",
       "version_major": 2,
       "version_minor": 0
      },
      "text/plain": [
       "Validation: |                                                                                                 …"
      ]
     },
     "metadata": {},
     "output_type": "display_data"
    },
    {
     "data": {
      "application/vnd.jupyter.widget-view+json": {
       "model_id": "9bef19141d9e40cba5acb87c6ab8479d",
       "version_major": 2,
       "version_minor": 0
      },
      "text/plain": [
       "Validation: |                                                                                                 …"
      ]
     },
     "metadata": {},
     "output_type": "display_data"
    },
    {
     "data": {
      "application/vnd.jupyter.widget-view+json": {
       "model_id": "78e929cc223c4f0a9cef552a649620cb",
       "version_major": 2,
       "version_minor": 0
      },
      "text/plain": [
       "Validation: |                                                                                                 …"
      ]
     },
     "metadata": {},
     "output_type": "display_data"
    },
    {
     "data": {
      "application/vnd.jupyter.widget-view+json": {
       "model_id": "1f5fb22a558044678a1fccae39d52977",
       "version_major": 2,
       "version_minor": 0
      },
      "text/plain": [
       "Validation: |                                                                                                 …"
      ]
     },
     "metadata": {},
     "output_type": "display_data"
    },
    {
     "data": {
      "application/vnd.jupyter.widget-view+json": {
       "model_id": "8a1af867f7ca49728ce458558ade70da",
       "version_major": 2,
       "version_minor": 0
      },
      "text/plain": [
       "Validation: |                                                                                                 …"
      ]
     },
     "metadata": {},
     "output_type": "display_data"
    },
    {
     "data": {
      "application/vnd.jupyter.widget-view+json": {
       "model_id": "1e47ae9aa1af42a3b174097ced38b620",
       "version_major": 2,
       "version_minor": 0
      },
      "text/plain": [
       "Validation: |                                                                                                 …"
      ]
     },
     "metadata": {},
     "output_type": "display_data"
    },
    {
     "data": {
      "application/vnd.jupyter.widget-view+json": {
       "model_id": "1aa358f8827f4d8d9c2d2bc72beab33f",
       "version_major": 2,
       "version_minor": 0
      },
      "text/plain": [
       "Validation: |                                                                                                 …"
      ]
     },
     "metadata": {},
     "output_type": "display_data"
    },
    {
     "data": {
      "application/vnd.jupyter.widget-view+json": {
       "model_id": "4b4970fafd864f72b5ccc09d8343f39c",
       "version_major": 2,
       "version_minor": 0
      },
      "text/plain": [
       "Validation: |                                                                                                 …"
      ]
     },
     "metadata": {},
     "output_type": "display_data"
    },
    {
     "data": {
      "application/vnd.jupyter.widget-view+json": {
       "model_id": "1265999f2e1e4af5af13d27598924160",
       "version_major": 2,
       "version_minor": 0
      },
      "text/plain": [
       "Validation: |                                                                                                 …"
      ]
     },
     "metadata": {},
     "output_type": "display_data"
    },
    {
     "data": {
      "application/vnd.jupyter.widget-view+json": {
       "model_id": "584f03e0f7b94eb0b4ac8c36e0600b37",
       "version_major": 2,
       "version_minor": 0
      },
      "text/plain": [
       "Validation: |                                                                                                 …"
      ]
     },
     "metadata": {},
     "output_type": "display_data"
    },
    {
     "data": {
      "application/vnd.jupyter.widget-view+json": {
       "model_id": "88a48e81e4c34da9b2a3ae9795406f73",
       "version_major": 2,
       "version_minor": 0
      },
      "text/plain": [
       "Validation: |                                                                                                 …"
      ]
     },
     "metadata": {},
     "output_type": "display_data"
    },
    {
     "data": {
      "application/vnd.jupyter.widget-view+json": {
       "model_id": "ff3815492a7c4b38bb39b065a8a068dd",
       "version_major": 2,
       "version_minor": 0
      },
      "text/plain": [
       "Validation: |                                                                                                 …"
      ]
     },
     "metadata": {},
     "output_type": "display_data"
    },
    {
     "data": {
      "application/vnd.jupyter.widget-view+json": {
       "model_id": "18b850331389428a8ea69cf849d66229",
       "version_major": 2,
       "version_minor": 0
      },
      "text/plain": [
       "Validation: |                                                                                                 …"
      ]
     },
     "metadata": {},
     "output_type": "display_data"
    },
    {
     "data": {
      "application/vnd.jupyter.widget-view+json": {
       "model_id": "b54b5f01e5ee4e94bb28da1f119c08d5",
       "version_major": 2,
       "version_minor": 0
      },
      "text/plain": [
       "Validation: |                                                                                                 …"
      ]
     },
     "metadata": {},
     "output_type": "display_data"
    },
    {
     "data": {
      "application/vnd.jupyter.widget-view+json": {
       "model_id": "f9010d9a77ee4affbd1391446a1cf964",
       "version_major": 2,
       "version_minor": 0
      },
      "text/plain": [
       "Validation: |                                                                                                 …"
      ]
     },
     "metadata": {},
     "output_type": "display_data"
    },
    {
     "data": {
      "application/vnd.jupyter.widget-view+json": {
       "model_id": "4026846ee3174ea3b0202bdff6dbe47d",
       "version_major": 2,
       "version_minor": 0
      },
      "text/plain": [
       "Validation: |                                                                                                 …"
      ]
     },
     "metadata": {},
     "output_type": "display_data"
    },
    {
     "data": {
      "application/vnd.jupyter.widget-view+json": {
       "model_id": "7fb8512b7d044e7081d1ffa23afccd24",
       "version_major": 2,
       "version_minor": 0
      },
      "text/plain": [
       "Validation: |                                                                                                 …"
      ]
     },
     "metadata": {},
     "output_type": "display_data"
    },
    {
     "data": {
      "application/vnd.jupyter.widget-view+json": {
       "model_id": "ed7cfd8efb5b42a399eb4d9bb56dded5",
       "version_major": 2,
       "version_minor": 0
      },
      "text/plain": [
       "Validation: |                                                                                                 …"
      ]
     },
     "metadata": {},
     "output_type": "display_data"
    },
    {
     "data": {
      "application/vnd.jupyter.widget-view+json": {
       "model_id": "770c5541a7d04ad18d3952fbcc2776ef",
       "version_major": 2,
       "version_minor": 0
      },
      "text/plain": [
       "Validation: |                                                                                                 …"
      ]
     },
     "metadata": {},
     "output_type": "display_data"
    },
    {
     "data": {
      "application/vnd.jupyter.widget-view+json": {
       "model_id": "d12732a179d44776809afef9c9f63167",
       "version_major": 2,
       "version_minor": 0
      },
      "text/plain": [
       "Validation: |                                                                                                 …"
      ]
     },
     "metadata": {},
     "output_type": "display_data"
    },
    {
     "data": {
      "application/vnd.jupyter.widget-view+json": {
       "model_id": "194d04530e494db5b1d7e5fe0beb8162",
       "version_major": 2,
       "version_minor": 0
      },
      "text/plain": [
       "Validation: |                                                                                                 …"
      ]
     },
     "metadata": {},
     "output_type": "display_data"
    },
    {
     "data": {
      "application/vnd.jupyter.widget-view+json": {
       "model_id": "e7a46f79fbc84470886a7e0f74ae4860",
       "version_major": 2,
       "version_minor": 0
      },
      "text/plain": [
       "Validation: |                                                                                                 …"
      ]
     },
     "metadata": {},
     "output_type": "display_data"
    },
    {
     "data": {
      "application/vnd.jupyter.widget-view+json": {
       "model_id": "9e2df2217b6a4f509ef029726a130803",
       "version_major": 2,
       "version_minor": 0
      },
      "text/plain": [
       "Validation: |                                                                                                 …"
      ]
     },
     "metadata": {},
     "output_type": "display_data"
    },
    {
     "data": {
      "application/vnd.jupyter.widget-view+json": {
       "model_id": "893731728f6f4a0593cf4ad1398d1c8e",
       "version_major": 2,
       "version_minor": 0
      },
      "text/plain": [
       "Validation: |                                                                                                 …"
      ]
     },
     "metadata": {},
     "output_type": "display_data"
    },
    {
     "data": {
      "application/vnd.jupyter.widget-view+json": {
       "model_id": "e7fbb0db6f8c43cfa8065c9243867c2e",
       "version_major": 2,
       "version_minor": 0
      },
      "text/plain": [
       "Validation: |                                                                                                 …"
      ]
     },
     "metadata": {},
     "output_type": "display_data"
    },
    {
     "data": {
      "application/vnd.jupyter.widget-view+json": {
       "model_id": "9c2b4d40eb8f4deea52fd130c95ba1c4",
       "version_major": 2,
       "version_minor": 0
      },
      "text/plain": [
       "Validation: |                                                                                                 …"
      ]
     },
     "metadata": {},
     "output_type": "display_data"
    },
    {
     "data": {
      "application/vnd.jupyter.widget-view+json": {
       "model_id": "addc2c0a7afc4df8a5c1e6cba98414a8",
       "version_major": 2,
       "version_minor": 0
      },
      "text/plain": [
       "Validation: |                                                                                                 …"
      ]
     },
     "metadata": {},
     "output_type": "display_data"
    },
    {
     "name": "stderr",
     "output_type": "stream",
     "text": [
      "`Trainer.fit` stopped: `max_epochs=100` reached.\n"
     ]
    },
    {
     "data": {
      "application/vnd.jupyter.widget-view+json": {
       "model_id": "be25803c7b1d42c8a44fd3b1b27ba658",
       "version_major": 2,
       "version_minor": 0
      },
      "text/plain": [
       "VBox(children=(Label(value='1118.437 MB of 1128.639 MB uploaded\\r'), FloatProgress(value=0.9909607643534478, m…"
      ]
     },
     "metadata": {},
     "output_type": "display_data"
    },
    {
     "data": {
      "text/html": [
       "\n",
       "    <style>\n",
       "        .wandb-row {\n",
       "            display: flex;\n",
       "            flex-direction: row;\n",
       "            flex-wrap: wrap;\n",
       "            justify-content: flex-start;\n",
       "            width: 100%;\n",
       "        }\n",
       "        .wandb-col {\n",
       "            display: flex;\n",
       "            flex-direction: column;\n",
       "            flex-basis: 100%;\n",
       "            flex: 1;\n",
       "            padding: 10px;\n",
       "        }\n",
       "    </style>\n",
       "<div class=\"wandb-row\"><div class=\"wandb-col\"><h3>Run history:</h3><br/><table class=\"wandb\"><tr><td>epoch</td><td>▁▁▁▁▁▂▂▂▂▂▃▃▃▃▄▄▄▅▅▅▅▅▅▅▆▆▆▆▆▆▆▆▆▇▇▇▇▇▇█</td></tr><tr><td>train_loss</td><td>█▄▄▄▄▄▄▄▃▃▂▂▂▂▂▂▂▂▂▂▂▂▂▂▂▂▁▁▁▁▁▁▁▁▁▁▁▁▁▁</td></tr><tr><td>trainer/global_step</td><td>▁▁▁▁▂▂▂▂▂▂▂▂▃▃▃▃▃▃▃▄▄▄▄▄▅▅▅▅▅▆▇▇▇▇▇█████</td></tr><tr><td>val_loss</td><td>█████▅▄▄▄▄▃▃▃▃▃▃▃▃▃▃▂▂▂▂▂▂▂▂▂▂▂▂▂▁▁▁▁▁▁▁</td></tr></table><br/></div><div class=\"wandb-col\"><h3>Run summary:</h3><br/><table class=\"wandb\"><tr><td>epoch</td><td>99</td></tr><tr><td>train_loss</td><td>0.01725</td></tr><tr><td>trainer/global_step</td><td>49999</td></tr><tr><td>val_loss</td><td>0.01672</td></tr></table><br/></div></div>"
      ],
      "text/plain": [
       "<IPython.core.display.HTML object>"
      ]
     },
     "metadata": {},
     "output_type": "display_data"
    },
    {
     "data": {
      "text/html": [
       " View run <strong style=\"color:#cdcd00\">default_f</strong> at: <a href='https://wandb.ai/daniil-drozdovjr-saint-petersburg-state-university/TransPath_runs/runs/uwi59nrm' target=\"_blank\">https://wandb.ai/daniil-drozdovjr-saint-petersburg-state-university/TransPath_runs/runs/uwi59nrm</a><br/> View project at: <a href='https://wandb.ai/daniil-drozdovjr-saint-petersburg-state-university/TransPath_runs' target=\"_blank\">https://wandb.ai/daniil-drozdovjr-saint-petersburg-state-university/TransPath_runs</a><br/>Synced 5 W&B file(s), 0 media file(s), 200 artifact file(s) and 2020 other file(s)"
      ],
      "text/plain": [
       "<IPython.core.display.HTML object>"
      ]
     },
     "metadata": {},
     "output_type": "display_data"
    },
    {
     "data": {
      "text/html": [
       "Find logs at: <code>.\\wandb\\run-20241207_203339-uwi59nrm\\logs</code>"
      ],
      "text/plain": [
       "<IPython.core.display.HTML object>"
      ]
     },
     "metadata": {},
     "output_type": "display_data"
    }
   ],
   "source": [
    "trainer.fit(lit_module, train_dataloader, val_dataloader)\n",
    "wandb.finish()"
   ]
  },
  {
   "cell_type": "code",
   "execution_count": 25,
   "id": "b5dcb34d-adaf-4dee-940c-7123c2834a0c",
   "metadata": {},
   "outputs": [],
   "source": [
    "weights_dir = './weights/'\n",
    "timestr = time.strftime(\"%Y%m%d-%H%M%S\")\n",
    "torch.save(model.state_dict(), f'{weights_dir}/model_{timestr}')"
   ]
  }
 ],
 "metadata": {
  "kernelspec": {
   "display_name": "Python 3 (ipykernel)",
   "language": "python",
   "name": "python3"
  },
  "language_info": {
   "codemirror_mode": {
    "name": "ipython",
    "version": 3
   },
   "file_extension": ".py",
   "mimetype": "text/x-python",
   "name": "python",
   "nbconvert_exporter": "python",
   "pygments_lexer": "ipython3",
   "version": "3.11.10"
  }
 },
 "nbformat": 4,
 "nbformat_minor": 5
}
