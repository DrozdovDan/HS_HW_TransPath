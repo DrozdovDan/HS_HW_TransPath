{
 "cells": [
  {
   "cell_type": "code",
   "execution_count": 1,
   "id": "16c19bf5-7be2-4cb8-9617-6c4f2862d43a",
   "metadata": {},
   "outputs": [],
   "source": [
    "import numpy as np\n",
    "import pandas as pd\n",
    "epsilon = 1e-3"
   ]
  },
  {
   "cell_type": "code",
   "execution_count": 2,
   "id": "b006b304-a318-45f5-ac73-33446741b8c9",
   "metadata": {},
   "outputs": [],
   "source": [
    "baseline = pd.read_csv('./vanilla_astar_octile_tie_break_data.csv')\n",
    "hl_metrics = pd.read_csv('./vanilla_astar_hl_data.csv')\n",
    "cf_metrics = pd.read_csv('./vanilla_wastar_cf_data.csv')\n",
    "f_metrics = pd.read_csv('./vanilla_fs_ppm_data.csv')"
   ]
  },
  {
   "cell_type": "code",
   "execution_count": 3,
   "id": "5fd7e5dc-ba8c-41db-b1e4-a9afe4992591",
   "metadata": {},
   "outputs": [],
   "source": [
    "optimal_found_ratio = (abs(hl_metrics['path_length'] - baseline['path_length']) < epsilon).mean() * 100\n",
    "cost_ratio = (hl_metrics['path_length'] / baseline['path_length']).mean() * 100\n",
    "cost_ratio_std = (hl_metrics['path_length'] / baseline['path_length']).std() * 100\n",
    "expansions_ratio = (hl_metrics['expanded_nodes_num'] / baseline['expanded_nodes_num']).mean() * 100\n",
    "expansions_ratio_std = (hl_metrics['expanded_nodes_num'] / baseline['expanded_nodes_num']).std() * 100\n",
    "mse = ((hl_metrics['path_length'] - baseline['path_length']) ** 2).mean()"
   ]
  },
  {
   "cell_type": "code",
   "execution_count": 4,
   "id": "c4de5f83-82c8-4483-aaec-5e4edfde169d",
   "metadata": {},
   "outputs": [
    {
     "name": "stdout",
     "output_type": "stream",
     "text": [
      "ASTAR+HL\n",
      "optimal found ratio: 86.1515625\n",
      "cost ratio: 100.17445354296134±0.4967666631646979\n",
      "expansions ratio: 206.8516932420581±254.1933063664249\n",
      "mse: 0.1440402427293775\n"
     ]
    }
   ],
   "source": [
    "print('ASTAR+HL')\n",
    "print(f'optimal found ratio: {optimal_found_ratio}')\n",
    "print(f'cost ratio: {cost_ratio}' + u\"\\u00B1\" + str(cost_ratio_std))\n",
    "print(f'expansions ratio: {expansions_ratio}' + u\"\\u00B1\" + str(expansions_ratio_std))\n",
    "print(f'mse: {mse}')"
   ]
  },
  {
   "cell_type": "code",
   "execution_count": 5,
   "id": "dce3b03a-594f-43cd-b1a2-1eaa24c99bf9",
   "metadata": {},
   "outputs": [],
   "source": [
    "optimal_found_ratio = (abs(cf_metrics['path_length'] - baseline['path_length']) < epsilon).mean() * 100\n",
    "cost_ratio = (cf_metrics['path_length'] / baseline['path_length']).mean() * 100\n",
    "cost_ratio_std = (cf_metrics['path_length'] / baseline['path_length']).std() * 100\n",
    "expansions_ratio = (cf_metrics['expanded_nodes_num'] / baseline['expanded_nodes_num']).mean() * 100\n",
    "expansions_ratio_std = (cf_metrics['expanded_nodes_num'] / baseline['expanded_nodes_num']).std() * 100\n",
    "mse = ((cf_metrics['path_length'] - baseline['path_length']) ** 2).mean()"
   ]
  },
  {
   "cell_type": "code",
   "execution_count": 6,
   "id": "480c54c8-aadb-4276-a4f2-4a26934b0168",
   "metadata": {},
   "outputs": [
    {
     "name": "stdout",
     "output_type": "stream",
     "text": [
      "WASTAR+CF\n",
      "optimal found ratio: 93.1578125\n",
      "cost ratio: 100.1016203005628±0.5494173500705382\n",
      "expansions ratio: 62.442603434125424±68.59686525669947\n",
      "mse: 0.17423846218508524\n"
     ]
    }
   ],
   "source": [
    "print('WASTAR+CF')\n",
    "print(f'optimal found ratio: {optimal_found_ratio}')\n",
    "print(f'cost ratio: {cost_ratio}' + u\"\\u00B1\" + str(cost_ratio_std))\n",
    "print(f'expansions ratio: {expansions_ratio}' + u\"\\u00B1\" + str(expansions_ratio_std))\n",
    "print(f'mse: {mse}')"
   ]
  },
  {
   "cell_type": "code",
   "execution_count": 7,
   "id": "d3c601b6-69be-4570-a848-fdb3721af9d9",
   "metadata": {},
   "outputs": [],
   "source": [
    "optimal_found_ratio = (abs(f_metrics['path_length'] - baseline['path_length']) < epsilon).mean() * 100\n",
    "cost_ratio = (f_metrics['path_length'] / baseline['path_length']).mean() * 100\n",
    "cost_ratio_std = (f_metrics['path_length'] / baseline['path_length']).std() * 100\n",
    "expansions_ratio = (f_metrics['expanded_nodes_num'] / baseline['expanded_nodes_num']).mean() * 100\n",
    "expansions_ratio_std = (f_metrics['expanded_nodes_num'] / baseline['expanded_nodes_num']).std() * 100\n",
    "mse = ((f_metrics['path_length'] - baseline['path_length']) ** 2).mean()"
   ]
  },
  {
   "cell_type": "code",
   "execution_count": 8,
   "id": "d0ddf526-882f-4fbb-b169-0d40ec66ccc5",
   "metadata": {},
   "outputs": [
    {
     "name": "stdout",
     "output_type": "stream",
     "text": [
      "FS+PPM\n",
      "optimal found ratio: 67.184375\n",
      "cost ratio: 100.48929457978026±0.9079037543903015\n",
      "expansions ratio: 53.72827508329212±53.340232297052715\n",
      "mse: 0.4328657727319268\n"
     ]
    }
   ],
   "source": [
    "print('FS+PPM')\n",
    "print(f'optimal found ratio: {optimal_found_ratio}')\n",
    "print(f'cost ratio: {cost_ratio}' + u\"\\u00B1\" + str(cost_ratio_std))\n",
    "print(f'expansions ratio: {expansions_ratio}' + u\"\\u00B1\" + str(expansions_ratio_std))\n",
    "print(f'mse: {mse}')"
   ]
  }
 ],
 "metadata": {
  "kernelspec": {
   "display_name": "Python 3 (ipykernel)",
   "language": "python",
   "name": "python3"
  },
  "language_info": {
   "codemirror_mode": {
    "name": "ipython",
    "version": 3
   },
   "file_extension": ".py",
   "mimetype": "text/x-python",
   "name": "python",
   "nbconvert_exporter": "python",
   "pygments_lexer": "ipython3",
   "version": "3.12.2"
  }
 },
 "nbformat": 4,
 "nbformat_minor": 5
}
