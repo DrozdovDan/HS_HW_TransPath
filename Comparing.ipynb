{
 "cells": [
  {
   "cell_type": "code",
   "execution_count": 6,
   "id": "16c19bf5-7be2-4cb8-9617-6c4f2862d43a",
   "metadata": {},
   "outputs": [],
   "source": [
    "import numpy as np\n",
    "import pandas as pd\n",
    "epsilon = 1e-3"
   ]
  },
  {
   "cell_type": "code",
   "execution_count": 7,
   "id": "b006b304-a318-45f5-ac73-33446741b8c9",
   "metadata": {},
   "outputs": [],
   "source": [
    "baseline = pd.read_csv('./vanilla_astar_octile_tie_break_data.csv')\n",
    "hl_metrics = pd.read_csv('./vanilla_astar_hl_data.csv')"
   ]
  },
  {
   "cell_type": "code",
   "execution_count": 28,
   "id": "5fd7e5dc-ba8c-41db-b1e4-a9afe4992591",
   "metadata": {},
   "outputs": [],
   "source": [
    "optimal_found_ratio = (abs(hl_metrics['path_length'] - baseline['path_length']) < epsilon).mean() * 100\n",
    "cost_ratio = (hl_metrics['path_length'] / baseline['path_length']).mean() * 100\n",
    "cost_ratio_std = (hl_metrics['path_length'] / baseline['path_length']).std() * 100\n",
    "expansions_ratio = (hl_metrics['expanded_nodes_num'] / baseline['expanded_nodes_num']).mean() * 100\n",
    "expansions_ratio_std = (hl_metrics['expanded_nodes_num'] / baseline['expanded_nodes_num']).std() * 100\n",
    "mse = ((hl_metrics['path_length'] - baseline['path_length']) ** 2).mean()"
   ]
  },
  {
   "cell_type": "code",
   "execution_count": 29,
   "id": "c4de5f83-82c8-4483-aaec-5e4edfde169d",
   "metadata": {},
   "outputs": [
    {
     "name": "stdout",
     "output_type": "stream",
     "text": [
      "optimal found ratio: 86.1515625\n",
      "cost ratio: 100.17445354296134±0.4967666631646979\n",
      "expansions ratio: 206.8516932420581±254.1933063664249\n",
      "mse: 0.1440402427293775\n"
     ]
    }
   ],
   "source": [
    "print(f'optimal found ratio: {optimal_found_ratio}')\n",
    "print(f'cost ratio: {cost_ratio}' + u\"\\u00B1\" + str(cost_ratio_std))\n",
    "print(f'expansions ratio: {expansions_ratio}' + u\"\\u00B1\" + str(expansions_ratio_std))\n",
    "print(f'mse: {mse}')"
   ]
  }
 ],
 "metadata": {
  "kernelspec": {
   "display_name": "Python 3 (ipykernel)",
   "language": "python",
   "name": "python3"
  },
  "language_info": {
   "codemirror_mode": {
    "name": "ipython",
    "version": 3
   },
   "file_extension": ".py",
   "mimetype": "text/x-python",
   "name": "python",
   "nbconvert_exporter": "python",
   "pygments_lexer": "ipython3",
   "version": "3.12.2"
  }
 },
 "nbformat": 4,
 "nbformat_minor": 5
}
